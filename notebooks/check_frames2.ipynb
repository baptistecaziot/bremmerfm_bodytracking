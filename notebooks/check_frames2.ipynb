{
 "cells": [
  {
   "cell_type": "code",
   "execution_count": null,
   "metadata": {},
   "outputs": [],
   "source": [
    "video_paths = [\n",
    "    '../21174907-0000.avi',\n",
    "    '../21187339-0000.avi'\n",
    "]\n",
    "\n",
    "i = 61\n",
    "frames = range(i, i+50, 4)\n",
    "fig, ax = plt.subplots(len(frames), len(video_paths))\n",
    "fig.set_size_inches(30,len(frames) * 20)\n",
    "for j, frame_number in enumerate(frames):\n",
    "    for i, fn in enumerate(video_paths):\n",
    "        cap = cv2.VideoCapture(fn)\n",
    "        cap.set(cv2.CAP_PROP_POS_FRAMES, frame_number-1)\n",
    "        res, frame = cap.read()\n",
    "        ax[j, i].set_title(f'frame {frame_number}')\n",
    "        ax[j, i].imshow(frame)\n",
    "        ax[j, i].axis('off')"
   ]
  }
 ],
 "metadata": {
  "kernelspec": {
   "display_name": "base",
   "language": "python",
   "name": "python3"
  },
  "language_info": {
   "codemirror_mode": {
    "name": "ipython",
    "version": 3
   },
   "file_extension": ".py",
   "mimetype": "text/x-python",
   "name": "python",
   "nbconvert_exporter": "python",
   "pygments_lexer": "ipython3",
   "version": "3.8.16"
  },
  "orig_nbformat": 4
 },
 "nbformat": 4,
 "nbformat_minor": 2
}
