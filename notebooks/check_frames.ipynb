{
 "cells": [
  {
   "cell_type": "code",
   "execution_count": null,
   "id": "ee974d4c-8567-4beb-a5b5-1068270509d6",
   "metadata": {},
   "outputs": [],
   "source": [
    "import matplotlib.pyplot as plt\n",
    "import pandas as pd\n",
    "import cv2"
   ]
  },
  {
   "cell_type": "code",
   "execution_count": null,
   "id": "aaae20fb-4209-44ba-bd6c-f2ef10f5f590",
   "metadata": {},
   "outputs": [],
   "source": [
    "device_numbers = ['21187339', '21187335', '21174907']  # 21187339 is master\n",
    "get_device_text_path = lambda device_number: f\"headtracking_2023-05-03_09-26-29_{device_number}.txt\"\n",
    "get_device_video_path = lambda device: f\"headtracking_2023-05-03_09-26-29_{device}-0000.avi\"\n",
    "\n",
    "def get_data(device):\n",
    "    with open(get_device_text_path(device)) as fh:\n",
    "        def _process_line(line):\n",
    "            a, b = line.strip().split(',')\n",
    "            return int(a), float(b)\n",
    "        return dict(_process_line(line) for line in fh)"
   ]
  },
  {
   "cell_type": "code",
   "execution_count": null,
   "id": "a92cb54e-ed20-4c72-b7a5-1c1351c19c2b",
   "metadata": {},
   "outputs": [],
   "source": [
    "data = [get_data(device) for device in device_numbers]\n",
    "df = pd.DataFrame(data).T"
   ]
  },
  {
   "cell_type": "code",
   "execution_count": null,
   "id": "97fd5886-1f5d-40ea-bb3d-5d845ae8f58a",
   "metadata": {},
   "outputs": [],
   "source": [
    "plt.plot(df.loc[130:280], label=[device_numbers[i] for i in df.columns])\n",
    "plt.ylabel('time [ms]')\n",
    "plt.xlabel('frame')\n",
    "plt.title('frame drops')\n",
    "plt.legend()"
   ]
  },
  {
   "cell_type": "code",
   "execution_count": null,
   "id": "15527253-510b-44c9-9253-877c7e86ea5b",
   "metadata": {},
   "outputs": [],
   "source": [
    "# minima = ((df - df.loc[11341, 0])**2).idxmin()\n",
    "minima = ((df - df.loc[8816, 0])**2).idxmin()\n",
    "minima = ((df - df.loc[51693, 0])**2).idxmin()\n",
    "\n",
    "print(minima)\n",
    "times = [df.loc[minima[i], i] for i in range(3)]\n",
    "print(times)\n",
    "\n",
    "fig, ax = plt.subplots(3)\n",
    "fig.set_size_inches(30,20)\n",
    "for i in range(3):\n",
    "    cap = cv2.VideoCapture(get_device_video_path(device_numbers[i]))\n",
    "    frame_number = minima[i]\n",
    "    cap.set(cv2.CAP_PROP_POS_FRAMES, frame_number-1)\n",
    "    res, frame = cap.read()\n",
    "    ax[i].set_title(f'frame: {frame_number} time: {times[i]}')\n",
    "    ax[i].imshow(frame)\n",
    "    ax[i].axis('off')"
   ]
  },
  {
   "cell_type": "code",
   "execution_count": null,
   "id": "0c0630d4-7c28-42cb-bd5b-539dc547bf0e",
   "metadata": {},
   "outputs": [],
   "source": []
  }
 ],
 "metadata": {
  "kernelspec": {
   "display_name": "Python 3 (ipykernel)",
   "language": "python",
   "name": "python3"
  },
  "language_info": {
   "codemirror_mode": {
    "name": "ipython",
    "version": 3
   },
   "file_extension": ".py",
   "mimetype": "text/x-python",
   "name": "python",
   "nbconvert_exporter": "python",
   "pygments_lexer": "ipython3",
   "version": "3.8.16"
  }
 },
 "nbformat": 4,
 "nbformat_minor": 5
}
