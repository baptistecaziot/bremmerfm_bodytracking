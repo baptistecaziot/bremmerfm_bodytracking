{
 "cells": [
  {
   "cell_type": "code",
   "execution_count": null,
   "metadata": {},
   "outputs": [],
   "source": [
    "import matplotlib.pyplot as plt\n",
    "import cv2"
   ]
  },
  {
   "cell_type": "code",
   "execution_count": null,
   "metadata": {},
   "outputs": [],
   "source": [
    "import numpy as np\n",
    "with open('../out/timing.txt') as fh:\n",
    "    cams = next(fh).strip().split(', ')\n",
    "    print(cams)\n",
    "    timing = np.array([list(map(float, s.strip().split(', '))) for s in fh][4:])\n",
    "                          "
   ]
  },
  {
   "cell_type": "code",
   "execution_count": null,
   "metadata": {},
   "outputs": [],
   "source": [
    "np.diff(timing, axis=0)[:100].mean(axis=0)"
   ]
  },
  {
   "cell_type": "code",
   "execution_count": null,
   "metadata": {},
   "outputs": [],
   "source": [
    "                                         \n",
    "frame_n = timing / 16675.82\n",
    "frame_n"
   ]
  },
  {
   "cell_type": "code",
   "execution_count": null,
   "metadata": {},
   "outputs": [],
   "source": [
    "frame_n = (frame_n+0.5).astype(int)\n",
    "frame_n[:100, 0]"
   ]
  },
  {
   "cell_type": "code",
   "execution_count": null,
   "metadata": {},
   "outputs": [],
   "source": [
    "def create_frame_idx_from_timing():\n",
    "    js = [0, 0, 0]\n",
    "    max_n = max(frame_n.flatten())\n",
    "    idxs = np.nan * np.empty((max_n, 3))\n",
    "    for i in range(0, max_n):\n",
    "        for c in range(3):\n",
    "            if i == frame_n[js[c], c] and i < len(frame_n):\n",
    "                idxs[i, c] = js[c]\n",
    "                js[c] += 1\n",
    "    return idxs\n",
    "idxs = create_frame_idx_from_timing()"
   ]
  },
  {
   "cell_type": "code",
   "execution_count": null,
   "metadata": {},
   "outputs": [],
   "source": [
    "idxs[24290:24300]\n",
    "idxs[24315:24320]\n",
    "idxs[39870:39890]\n",
    "idxs[-100:]\n",
    "# idxs[39880]\n",
    "# idxs[-100:]\n",
    "import random\n",
    "idxs_fullset = list(map(lambda a: a[0], filter(lambda a: not a[1], zip(range(len(idxs)), np.any(np.isnan(idxs), axis=1)))))\n",
    "idx = random.choice(idxs_fullset)\n",
    "# idxs[43198]\n",
    "idx, idxs[idx]"
   ]
  },
  {
   "cell_type": "code",
   "execution_count": null,
   "metadata": {},
   "outputs": [],
   "source": [
    "frame_n[24290:24300]\n",
    "idxs[24315:24320]\n",
    "idxs[:, 2] += 2 # why?\n",
    "idxs"
   ]
  },
  {
   "cell_type": "code",
   "execution_count": null,
   "metadata": {},
   "outputs": [],
   "source": [
    "# list(filter(lambda a: not a[1], zip(range(len(idxs)), idxs)))"
   ]
  },
  {
   "cell_type": "code",
   "execution_count": null,
   "metadata": {},
   "outputs": [],
   "source": [
    "from PIL import Image\n",
    "import matplotlib.pyplot as plt"
   ]
  },
  {
   "cell_type": "code",
   "execution_count": null,
   "metadata": {},
   "outputs": [],
   "source": [
    "N = 3\n",
    "# idx = 5\n",
    "framerange = range(len(frame_n)-N, len(frame_n))\n",
    "\n",
    "fig, ax = plt.subplots(1, 3)\n",
    "fig.set_size_inches(20, 1*10)\n",
    "\n",
    "img_fn = [f\"../out/jpeg_recording_{cam}/compressed_{cam}_{int(idx):05d}.jpeg\" for cam, idx in zip(cams, idxs[idx])]\n",
    "imgs = [Image.open(fn) for fn in img_fn]\n",
    "\n",
    "for i, (t, img) in enumerate(zip(idxs[idx], imgs)):\n",
    "    ax[i].imshow(np.asarray(img), cmap='gray')\n",
    "    ax[i].axis('off')\n",
    "    ax[i].set_title(int(t))"
   ]
  }
 ],
 "metadata": {
  "kernelspec": {
   "display_name": "base",
   "language": "python",
   "name": "python3"
  },
  "language_info": {
   "codemirror_mode": {
    "name": "ipython",
    "version": 3
   },
   "file_extension": ".py",
   "mimetype": "text/x-python",
   "name": "python",
   "nbconvert_exporter": "python",
   "pygments_lexer": "ipython3",
   "version": "3.8.16"
  },
  "orig_nbformat": 4
 },
 "nbformat": 4,
 "nbformat_minor": 2
}
